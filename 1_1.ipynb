{
  "nbformat": 4,
  "nbformat_minor": 0,
  "metadata": {
    "colab": {
      "name": "1.1.ipynb",
      "provenance": [],
      "authorship_tag": "ABX9TyNfZCIR6r1X21MmdsSAY2vZ",
      "include_colab_link": true
    },
    "kernelspec": {
      "name": "python3",
      "display_name": "Python 3"
    }
  },
  "cells": [
    {
      "cell_type": "markdown",
      "metadata": {
        "id": "view-in-github",
        "colab_type": "text"
      },
      "source": [
        "<a href=\"https://colab.research.google.com/github/mahima-c/Computer-Vision-Tensorflow2/blob/main/1_1.ipynb\" target=\"_parent\"><img src=\"https://colab.research.google.com/assets/colab-badge.svg\" alt=\"Open In Colab\"/></a>"
      ]
    },
    {
      "cell_type": "markdown",
      "metadata": {
        "id": "BvJ4Oe-CpPUi"
      },
      "source": [
        "Backpropagating errors using the gradient tape"
      ]
    },
    {
      "cell_type": "code",
      "metadata": {
        "id": "JbZ7QZxB06Au"
      },
      "source": [
        "import tensorflow as tf"
      ],
      "execution_count": 3,
      "outputs": []
    },
    {
      "cell_type": "code",
      "metadata": {
        "id": "dFx1SORkpId-"
      },
      "source": [
        "A, B = tf.constant(3.0), tf.constant(6.0)\r\n",
        "X = tf.Variable(20.0) # In practice, we would start with a random value\r\n",
        "loss = tf.math.abs(A * X - B)"
      ],
      "execution_count": 4,
      "outputs": []
    },
    {
      "cell_type": "code",
      "metadata": {
        "colab": {
          "base_uri": "https://localhost:8080/"
        },
        "id": "ZP3TPXPt1AOo",
        "outputId": "b54d4846-ad42-405f-c3a1-623695a2eaa0"
      },
      "source": [
        "def train_step():\r\n",
        "    with tf.GradientTape() as tape:\r\n",
        "        loss = tf.math.abs(A * X - B)\r\n",
        "    dX = tape.gradient(loss, X)\r\n",
        "    \r\n",
        "    print('X = {:.2f}, dX = {:2f}'.format(X.numpy(), dX))\r\n",
        "    X.assign(X - dX)\r\n",
        "\r\n",
        "for i in range(7):\r\n",
        "    train_step()"
      ],
      "execution_count": 5,
      "outputs": [
        {
          "output_type": "stream",
          "text": [
            "X = 20.00, dX = 3.000000\n",
            "X = 17.00, dX = 3.000000\n",
            "X = 14.00, dX = 3.000000\n",
            "X = 11.00, dX = 3.000000\n",
            "X = 8.00, dX = 3.000000\n",
            "X = 5.00, dX = 3.000000\n",
            "X = 2.00, dX = 0.000000\n"
          ],
          "name": "stdout"
        }
      ]
    }
  ]
}
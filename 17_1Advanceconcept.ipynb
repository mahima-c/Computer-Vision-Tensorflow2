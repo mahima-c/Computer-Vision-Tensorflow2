{
  "nbformat": 4,
  "nbformat_minor": 0,
  "metadata": {
    "colab": {
      "name": "17.1Advanceconcept.ipynb",
      "provenance": [],
      "authorship_tag": "ABX9TyPulamX3okZLfBAZAVqNKS3",
      "include_colab_link": true
    },
    "kernelspec": {
      "name": "python3",
      "display_name": "Python 3"
    }
  },
  "cells": [
    {
      "cell_type": "markdown",
      "metadata": {
        "id": "view-in-github",
        "colab_type": "text"
      },
      "source": [
        "<a href=\"https://colab.research.google.com/github/mahima-c/Computer-Vision-Tensorflow2/blob/main/17_1Advanceconcept.ipynb\" target=\"_parent\"><img src=\"https://colab.research.google.com/assets/colab-badge.svg\" alt=\"Open In Colab\"/></a>"
      ]
    },
    {
      "cell_type": "code",
      "metadata": {
        "id": "cKgEZPbfCZAy"
      },
      "source": [
        "import tensorflow as tf"
      ],
      "execution_count": 2,
      "outputs": []
    },
    {
      "cell_type": "markdown",
      "metadata": {
        "id": "duuCfKL8Cb6K"
      },
      "source": [
        ""
      ]
    },
    {
      "cell_type": "code",
      "metadata": {
        "id": "N3wnazpnB_cr"
      },
      "source": [
        "@tf.function\r\n",
        "def identity(x):\r\n",
        "  print('Creating graph !')\r\n",
        "  return x"
      ],
      "execution_count": 3,
      "outputs": []
    },
    {
      "cell_type": "markdown",
      "metadata": {
        "id": "oHLw8BTACiOF"
      },
      "source": [
        "This function will print a message every time TensorFlow creates a graph corresponding to its operation. In this case, since TensorFlow is caching the graph, it will print something only the first time it is run:"
      ]
    },
    {
      "cell_type": "code",
      "metadata": {
        "colab": {
          "base_uri": "https://localhost:8080/"
        },
        "id": "lNAtmqRUCeDu",
        "outputId": "bd4a9e1c-573c-4046-d3b3-6d507aa20b91"
      },
      "source": [
        "x1 = tf.random.uniform((10, 10))\r\n",
        "x2 = tf.random.uniform((10, 10))\r\n",
        "\r\n",
        "result1 = identity(x1) # Prints 'Creating graph !'\r\n",
        "result2 = identity(x2) # Nothing is printed"
      ],
      "execution_count": 4,
      "outputs": [
        {
          "output_type": "stream",
          "text": [
            "Creating graph !\n"
          ],
          "name": "stdout"
        }
      ]
    },
    {
      "cell_type": "markdown",
      "metadata": {
        "id": "QM5-g5oYCvqp"
      },
      "source": [
        "However, note that if we change the input type, TensorFlow will recreate a graph:\r\n",
        "\r\n"
      ]
    },
    {
      "cell_type": "code",
      "metadata": {
        "colab": {
          "base_uri": "https://localhost:8080/"
        },
        "id": "HPzumh_XCwNA",
        "outputId": "3b3b3091-96da-4bc0-9f7e-adcd90381422"
      },
      "source": [
        "x3 = tf.random.uniform((10, 10), dtype=tf.float16)\r\n",
        "result3 = identity(x3) # Prints 'Creating graph !'"
      ],
      "execution_count": 5,
      "outputs": [
        {
          "output_type": "stream",
          "text": [
            "Creating graph !\n"
          ],
          "name": "stdout"
        }
      ]
    },
    {
      "cell_type": "markdown",
      "metadata": {
        "id": "oPjL6yqRDMY0"
      },
      "source": [
        "This behavior is explained by the fact that TensorFlow graphs are defined by their operations and the shapes and types of the tensors they receive as inputs. Therefore, when the input type changes, a new graph needs to be created. In TensorFlow vocabulary, when a tf.function function has defined input types, it becomes a concrete function.\r\n",
        "\r\n",
        "To summarize, every time a decorated function is run for the first time, TensorFlow caches the graph corresponding to the input types and input shapes. If the function is run with inputs of a different type, TensorFlow will create a new graph and cache it.\r\n",
        "\r\n",
        "Nevertheless, it might be useful to log information every time a concrete function is run and not just the first time. To do so, use tf.print:"
      ]
    },
    {
      "cell_type": "code",
      "metadata": {
        "id": "uXjRxSR4DM2j"
      },
      "source": [
        "@tf.function\r\n",
        "def identity(x):\r\n",
        "  tf.print(\"Running identity\")\r\n",
        "  return x"
      ],
      "execution_count": 6,
      "outputs": []
    },
    {
      "cell_type": "markdown",
      "metadata": {
        "id": "r1NxOtxwDiqp"
      },
      "source": [
        "Instead of printing information only the first time, this function will print Running identity every single time it is run."
      ]
    },
    {
      "cell_type": "markdown",
      "metadata": {
        "id": "AmZmTQS4KxoP"
      },
      "source": [
        "As you will see in this book, training a deep learning model requires a lot of fine-tuning. Therefore, it is essential to monitor how your model is performing. TensorBoard allows you to do precisely this. The most common use case is to monitor the evolution of the loss of your model over time. But you can also do the following:\r\n",
        "\r\n",
        "Plot any metric (such as accuracy)\r\n",
        "Display input and output images\r\n",
        "Display the execution time\r\n",
        "Draw your model's graph representation"
      ]
    },
    {
      "cell_type": "markdown",
      "metadata": {
        "id": "3OQTAwyhKyGt"
      },
      "source": [
        "TensorBoard is very versatile, and there are many ways to use it. Each piece of information is stored in tf.summary—this can be scalars, images, histograms, or text. For instance, to log a scalar you might first create a summary writer and log information using the following:"
      ]
    },
    {
      "cell_type": "markdown",
      "metadata": {
        "id": "dVS0V9bGLesn"
      },
      "source": [
        "TensorFlow Addons and TensorFlow Extended\r\n",
        "TensorFlow Addons is a collection of extra functionalities gathered into a single repository (https://github.com/tensorflow/addons). It hosts some of the newer advancements in deep learning that are too unstable or not used by enough people to justify adding them to the main TensorFlow library. It also acts as a replacement for tf.contrib, which was removed from TensorFlow 1.\r\n",
        "\r\n",
        "TensorFlow Extended is an end-to-end machine learning platform for TensorFlow. It offers several useful tools:\r\n",
        "\r\n",
        "TensorFlow Data Validation: A library for exploring and validating machine learning data. You can use it before even building your model.\r\n",
        "TensorFlow Transform: A library for preprocessing data. It allows you to make sure training and evaluation data are processed the same way.\r\n",
        "TensorFlow Model Analysis: A library for evaluating TensorFlow models.\r\n",
        "TensorFlow Serving: A serving system for machine learning models. Serving is the process of delivering predictions from a model, usually through a REST API:\r\n",
        "\r\n",
        "\r\n",
        "Figure 2.6: End-to-end process of creating and using a deep learning model\r\n",
        "As seen in Figure 2.6, these tools fulfill the goal of being end to end, covering every step of the process of building and using a deep learning model."
      ]
    },
    {
      "cell_type": "code",
      "metadata": {
        "id": "Kg02WK30DjCe"
      },
      "source": [
        ""
      ],
      "execution_count": null,
      "outputs": []
    }
  ]
}